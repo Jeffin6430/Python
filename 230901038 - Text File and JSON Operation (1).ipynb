{
 "cells": [
  {
   "cell_type": "code",
   "execution_count": 5,
   "id": "584c21c3",
   "metadata": {},
   "outputs": [],
   "source": [
    "f=open(\"/Users/student/Downloads/TxtJSON.txt\",\"w\") #Write mode\n",
    "f.write(\"Wakeup early\\n\")\n",
    "f.write(\"Read daily\\n\")\n",
    "f.write(\"Be punctual\\n\")\n",
    "f.close()"
   ]
  },
  {
   "cell_type": "code",
   "execution_count": 18,
   "id": "79a64cf4",
   "metadata": {},
   "outputs": [
    {
     "name": "stdout",
     "output_type": "stream",
     "text": [
      "Wakeup early\n",
      "\n",
      "Read daily\n",
      "\n",
      "Be punctual\n",
      "\n"
     ]
    }
   ],
   "source": [
    "a=open(\"/Users/student/Downloads/TxtJSON.txt\",\"r\")#Read mode\n",
    "print(a.readline())#print single line\n",
    "print(a.readline())\n",
    "print(a.readline())\n",
    "a.close()"
   ]
  },
  {
   "cell_type": "code",
   "execution_count": 12,
   "id": "d65a8fcd",
   "metadata": {},
   "outputs": [],
   "source": [
    "with open(\"/Users/student/Downloads/TxtJSON.txt\",\"a\") as b:#Append\n",
    "    b.write(\"Bavani\\n\")\n",
    "    b.write(\"Rithika\\n\")\n",
    "#with open - no need to use close()"
   ]
  },
  {
   "cell_type": "code",
   "execution_count": 17,
   "id": "3f2f09a9",
   "metadata": {},
   "outputs": [
    {
     "name": "stdout",
     "output_type": "stream",
     "text": [
      "Wakeup early\n",
      "Read daily\n",
      "Be punctual\n",
      "Bavani\n",
      "Rithika\n"
     ]
    }
   ],
   "source": [
    "c=open(\"/Users/student/Downloads/TxtJSON.txt\",\"r\")\n",
    "print(c.read())\n",
    "c.close()"
   ]
  },
  {
   "cell_type": "code",
   "execution_count": 19,
   "id": "8e94baf7",
   "metadata": {},
   "outputs": [
    {
     "name": "stdout",
     "output_type": "stream",
     "text": [
      "['Wakeup early\\n', 'Read daily\\n', 'Be punctual\\n', 'Bavani\\n', 'Rithika']\n"
     ]
    }
   ],
   "source": [
    "with open(\"/Users/student/Downloads/TxtJSON.txt\",\"r\") as file:\n",
    "    lines=file.readlines()\n",
    "    print(lines)"
   ]
  },
  {
   "cell_type": "code",
   "execution_count": 6,
   "id": "26c1dfec",
   "metadata": {},
   "outputs": [
    {
     "name": "stdout",
     "output_type": "stream",
     "text": [
      "{'name': 'Sundar', 'age': 25, 'city': 'Mumbai'}\n",
      "Mumbai\n"
     ]
    }
   ],
   "source": [
    "#JSON Operation (JavaScript on Notstion)\n",
    "import json\n",
    "x='{\"name\":\"Sundar\",\"age\":25,\"city\":\"Mumbai\"}'\n",
    "y=json.loads(x)\n",
    "print(y)\n",
    "print(y[\"city\"])"
   ]
  },
  {
   "cell_type": "code",
   "execution_count": 4,
   "id": "92dbb4a6",
   "metadata": {},
   "outputs": [
    {
     "name": "stdout",
     "output_type": "stream",
     "text": [
      "{\"name\": \"Sundar\", \"age\": 25, \"city\": \"Mumbai\"}\n"
     ]
    }
   ],
   "source": [
    "import json\n",
    "x={\"name\":\"Sundar\",\n",
    "\"age\":25,\n",
    "\"city\":\"Mumbai\"}\n",
    "y=json.dumps(x)# prints in a single row\n",
    "print(y)"
   ]
  }
 ],
 "metadata": {
  "kernelspec": {
   "display_name": "Python 3 (ipykernel)",
   "language": "python",
   "name": "python3"
  },
  "language_info": {
   "codemirror_mode": {
    "name": "ipython",
    "version": 3
   },
   "file_extension": ".py",
   "mimetype": "text/x-python",
   "name": "python",
   "nbconvert_exporter": "python",
   "pygments_lexer": "ipython3",
   "version": "3.11.5"
  }
 },
 "nbformat": 4,
 "nbformat_minor": 5
}
